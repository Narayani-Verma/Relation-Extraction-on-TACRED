{
  "nbformat": 4,
  "nbformat_minor": 0,
  "metadata": {
    "colab": {
      "provenance": []
    },
    "kernelspec": {
      "name": "python3",
      "display_name": "Python 3"
    },
    "language_info": {
      "name": "python"
    }
  },
  "cells": [
    {
      "cell_type": "markdown",
      "source": [
        "### Knowledge Graph Creation for Relation Extraction"
      ],
      "metadata": {
        "id": "Em9sJDrMXNJ9"
      }
    },
    {
      "cell_type": "code",
      "source": [
        "def create_graphs(dataset):\n",
        "    graphs = []\n",
        "    for item in dataset:\n",
        "        entity_to_id = {}\n",
        "        node_features, edge_index, edge_attr = [], [], []\n",
        "        for entity_key in ['subj', 'obj']:\n",
        "            entity_info = (item[f'{entity_key}_type'], tuple(item['tokens'][item[f'{entity_key}_start']:item[f'{entity_key}_end']+1]))\n",
        "            if entity_info not in entity_to_id:\n",
        "                pos_one_hot = torch.tensor(item['stanford_pos_one_hot'][item[f'{entity_key}_start']], dtype=torch.float)\n",
        "                ner_one_hot = torch.tensor(item['stanford_ner_one_hot'][item[f'{entity_key}_start']], dtype=torch.float)\n",
        "                node_feature = torch.cat((pos_one_hot, ner_one_hot), dim=0)\n",
        "                node_features.append(node_feature)\n",
        "                entity_to_id[entity_info] = len(node_features) - 1\n",
        "        dependency_path = get_shortest_dependency_path(item['stanford_head'], item['subj_start'], item['obj_start'])\n",
        "        for token_idx in dependency_path:\n",
        "            if token_idx not in entity_to_id:\n",
        "                pos_one_hot = torch.tensor(item['stanford_pos_one_hot'][token_idx], dtype=torch.float)\n",
        "                ner_one_hot = torch.tensor(item['stanford_ner_one_hot'][token_idx], dtype=torch.float)\n",
        "                node_feature = torch.cat((pos_one_hot, ner_one_hot), dim=0)\n",
        "                node_features.append(node_feature)\n",
        "                entity_to_id[token_idx] = len(node_features) - 1\n",
        "        subj_id = entity_to_id[(item['subj_type'], tuple(item['tokens'][item['subj_start']:item['subj_end']+1]))]\n",
        "        obj_id = entity_to_id[(item['obj_type'], tuple(item['tokens'][item['obj_start']:item['obj_end']+1]))]\n",
        "        edge_index.append([subj_id, obj_id])\n",
        "        edge_attr.append(relation_to_one_hot(item['relation']))\n",
        "        node_features = torch.stack(node_features)\n",
        "        edge_index = torch.tensor(edge_index, dtype=torch.long).t().contiguous()\n",
        "        edge_attr = torch.stack(edge_attr)\n",
        "        graph_data = Data(x=node_features, edge_index=edge_index, edge_attr=edge_attr)\n",
        "        graphs.append(graph_data)\n",
        "    return graphs"
      ],
      "metadata": {
        "id": "XKrqpWAkWAFt"
      },
      "execution_count": null,
      "outputs": []
    }
  ]
}